{
  "nbformat": 4,
  "nbformat_minor": 0,
  "metadata": {
    "colab": {
      "provenance": [],
      "authorship_tag": "ABX9TyNk6BhWIx8AtuW3qN+ZwU9Z",
      "include_colab_link": true
    },
    "kernelspec": {
      "name": "python3",
      "display_name": "Python 3"
    },
    "language_info": {
      "name": "python"
    },
    "gpuClass": "standard"
  },
  "cells": [
    {
      "cell_type": "markdown",
      "metadata": {
        "id": "view-in-github",
        "colab_type": "text"
      },
      "source": [
        "<a href=\"https://colab.research.google.com/github/ashutoshsinha25/pytorch-development/blob/main/Fundamentals/01_Pytorch_Fundamentals.ipynb\" target=\"_parent\"><img src=\"https://colab.research.google.com/assets/colab-badge.svg\" alt=\"Open In Colab\"/></a>"
      ]
    },
    {
      "cell_type": "markdown",
      "source": [
        "## Link to resource notebook : [Pytorch-resource](https://www.learnpytorch.io/)"
      ],
      "metadata": {
        "id": "jpJXWs_iZpIn"
      }
    },
    {
      "cell_type": "code",
      "source": [
        "# importing the lib\n",
        "import torch\n",
        "import pandas as pd\n",
        "import numpy as np\n",
        "import matplotlib.pyplot as plt\n",
        "print(torch.__version__)"
      ],
      "metadata": {
        "colab": {
          "base_uri": "https://localhost:8080/"
        },
        "id": "gR5VAtzkZWpJ",
        "outputId": "3d35f6e3-7f56-40b2-b391-9a62fde2dbf3"
      },
      "execution_count": 1,
      "outputs": [
        {
          "output_type": "stream",
          "name": "stdout",
          "text": [
            "2.0.1+cu118\n"
          ]
        }
      ]
    },
    {
      "cell_type": "markdown",
      "source": [
        "## Introduction to Tensors"
      ],
      "metadata": {
        "id": "NgX5ybxkad0m"
      }
    },
    {
      "cell_type": "markdown",
      "source": [
        "### Creating a tensor\n",
        "\n",
        "1. pytorch tensors are created using torch.tensor()"
      ],
      "metadata": {
        "id": "hYpE3F--a9Te"
      }
    },
    {
      "cell_type": "code",
      "source": [
        "# scaler --> it has no dimensions\n",
        "scaler = torch.tensor(7)\n",
        "scaler"
      ],
      "metadata": {
        "colab": {
          "base_uri": "https://localhost:8080/"
        },
        "id": "K4GhKCr2Z2nu",
        "outputId": "31f08982-02be-49bc-891a-ef8c9a1d6c24"
      },
      "execution_count": 2,
      "outputs": [
        {
          "output_type": "execute_result",
          "data": {
            "text/plain": [
              "tensor(7)"
            ]
          },
          "metadata": {},
          "execution_count": 2
        }
      ]
    },
    {
      "cell_type": "code",
      "source": [
        "print(scaler.ndim) # --> returns the dimension of tensor\n",
        "print(scaler.item()) # --> return the value of that tensor as a regular python integer (int)"
      ],
      "metadata": {
        "colab": {
          "base_uri": "https://localhost:8080/"
        },
        "id": "0HuC9KHXbLXp",
        "outputId": "73071943-4b5f-409d-ec56-c083ef196785"
      },
      "execution_count": 3,
      "outputs": [
        {
          "output_type": "stream",
          "name": "stdout",
          "text": [
            "0\n",
            "7\n"
          ]
        }
      ]
    },
    {
      "cell_type": "code",
      "source": [
        "# vector # --> it has one dimensions\n",
        "vector = torch.tensor([7,7])\n",
        "vector"
      ],
      "metadata": {
        "colab": {
          "base_uri": "https://localhost:8080/"
        },
        "id": "ia_s3PFSb_Ph",
        "outputId": "e8f2df57-250e-4757-da59-00352331b83c"
      },
      "execution_count": 4,
      "outputs": [
        {
          "output_type": "execute_result",
          "data": {
            "text/plain": [
              "tensor([7, 7])"
            ]
          },
          "metadata": {},
          "execution_count": 4
        }
      ]
    },
    {
      "cell_type": "code",
      "source": [
        "print(vector.ndim) # --> returns the dimension of tensor"
      ],
      "metadata": {
        "colab": {
          "base_uri": "https://localhost:8080/"
        },
        "id": "D8CDRjnjcLNv",
        "outputId": "08700572-6c99-419e-ce62-6d21132cc2d9"
      },
      "execution_count": 5,
      "outputs": [
        {
          "output_type": "stream",
          "name": "stdout",
          "text": [
            "1\n"
          ]
        }
      ]
    },
    {
      "cell_type": "code",
      "source": [
        "scaler.shape , vector.shape # shapes of values"
      ],
      "metadata": {
        "colab": {
          "base_uri": "https://localhost:8080/"
        },
        "id": "p8xW98STcZQN",
        "outputId": "938e454b-6f58-49f4-df6b-772fa88929a9"
      },
      "execution_count": 6,
      "outputs": [
        {
          "output_type": "execute_result",
          "data": {
            "text/plain": [
              "(torch.Size([]), torch.Size([2]))"
            ]
          },
          "metadata": {},
          "execution_count": 6
        }
      ]
    },
    {
      "cell_type": "code",
      "source": [
        "# MATRIX # --> it has two dimensions\n",
        "MATRIX = torch.tensor([[7,8],\n",
        "                       [9,10]])\n",
        "MATRIX"
      ],
      "metadata": {
        "colab": {
          "base_uri": "https://localhost:8080/"
        },
        "id": "QrD5fjapcioc",
        "outputId": "02de940a-f6ab-48d6-8220-176ed15b98e9"
      },
      "execution_count": 7,
      "outputs": [
        {
          "output_type": "execute_result",
          "data": {
            "text/plain": [
              "tensor([[ 7,  8],\n",
              "        [ 9, 10]])"
            ]
          },
          "metadata": {},
          "execution_count": 7
        }
      ]
    },
    {
      "cell_type": "code",
      "source": [
        "print(MATRIX.ndim) # --> returns the dimension of tensor"
      ],
      "metadata": {
        "colab": {
          "base_uri": "https://localhost:8080/"
        },
        "id": "YR6GuO2KctP8",
        "outputId": "98dcc473-72b7-4143-9d3d-e72fbb1085b7"
      },
      "execution_count": 8,
      "outputs": [
        {
          "output_type": "stream",
          "name": "stdout",
          "text": [
            "2\n"
          ]
        }
      ]
    },
    {
      "cell_type": "code",
      "source": [
        "scaler.shape , vector.shape , MATRIX.shape# shapes of values"
      ],
      "metadata": {
        "colab": {
          "base_uri": "https://localhost:8080/"
        },
        "id": "CBdKdBpFcv1K",
        "outputId": "be54ff75-fc08-4d04-fac0-77460454463e"
      },
      "execution_count": 9,
      "outputs": [
        {
          "output_type": "execute_result",
          "data": {
            "text/plain": [
              "(torch.Size([]), torch.Size([2]), torch.Size([2, 2]))"
            ]
          },
          "metadata": {},
          "execution_count": 9
        }
      ]
    },
    {
      "cell_type": "code",
      "source": [
        "# TENSOR # --> it has three dimensions\n",
        "TENSOR = torch.tensor([[[1,2,3],\n",
        "                        [3,4,5],\n",
        "                        [6,7,8]]])\n",
        "TENSOR"
      ],
      "metadata": {
        "colab": {
          "base_uri": "https://localhost:8080/"
        },
        "id": "NxhnSzwpc5ZG",
        "outputId": "194eb0f6-3ff1-4086-a507-9bf3dd3eae9c"
      },
      "execution_count": 10,
      "outputs": [
        {
          "output_type": "execute_result",
          "data": {
            "text/plain": [
              "tensor([[[1, 2, 3],\n",
              "         [3, 4, 5],\n",
              "         [6, 7, 8]]])"
            ]
          },
          "metadata": {},
          "execution_count": 10
        }
      ]
    },
    {
      "cell_type": "code",
      "source": [
        "print(TENSOR.ndim) # --> returns the dimension of tensor"
      ],
      "metadata": {
        "colab": {
          "base_uri": "https://localhost:8080/"
        },
        "id": "aVQBK87FdRf9",
        "outputId": "80aab919-87bd-49c4-b4bb-730ac44074cc"
      },
      "execution_count": 11,
      "outputs": [
        {
          "output_type": "stream",
          "name": "stdout",
          "text": [
            "3\n"
          ]
        }
      ]
    },
    {
      "cell_type": "code",
      "source": [
        "scaler.shape , vector.shape , MATRIX.shape , TENSOR.shape# shapes of values"
      ],
      "metadata": {
        "colab": {
          "base_uri": "https://localhost:8080/"
        },
        "id": "DWRV9Eq0dWZQ",
        "outputId": "34a1c340-9ff0-421d-94f2-10d83eec1e47"
      },
      "execution_count": 12,
      "outputs": [
        {
          "output_type": "execute_result",
          "data": {
            "text/plain": [
              "(torch.Size([]), torch.Size([2]), torch.Size([2, 2]), torch.Size([1, 3, 3]))"
            ]
          },
          "metadata": {},
          "execution_count": 12
        }
      ]
    },
    {
      "cell_type": "code",
      "source": [
        "TENSOR[0]"
      ],
      "metadata": {
        "colab": {
          "base_uri": "https://localhost:8080/"
        },
        "id": "BI_BlC78ddqq",
        "outputId": "8e8b4cd3-80fd-4add-ca93-5581e9ea3d09"
      },
      "execution_count": 13,
      "outputs": [
        {
          "output_type": "execute_result",
          "data": {
            "text/plain": [
              "tensor([[1, 2, 3],\n",
              "        [3, 4, 5],\n",
              "        [6, 7, 8]])"
            ]
          },
          "metadata": {},
          "execution_count": 13
        }
      ]
    },
    {
      "cell_type": "code",
      "source": [
        "TENSOR[0][1]"
      ],
      "metadata": {
        "colab": {
          "base_uri": "https://localhost:8080/"
        },
        "id": "zfG25Ky9dl0Y",
        "outputId": "7f70acd3-3670-4f7a-c54b-807b65514889"
      },
      "execution_count": 14,
      "outputs": [
        {
          "output_type": "execute_result",
          "data": {
            "text/plain": [
              "tensor([3, 4, 5])"
            ]
          },
          "metadata": {},
          "execution_count": 14
        }
      ]
    },
    {
      "cell_type": "markdown",
      "source": [
        "### Random tensor\n",
        "\n",
        "Q.) Why random tensors?\n",
        "\n",
        "Random tensors are important beacause the way many neural networks learn is that they start with tensors full of random numbers and then adjust those random numbers to better represent the data\n",
        "\n",
        " `start with random numbers -> look at data -> update random numbers -> look at data -> update random numbers`"
      ],
      "metadata": {
        "id": "XysIy-Yeeb3a"
      }
    },
    {
      "cell_type": "code",
      "source": [
        "# create a random tensor of size/shape (3,4)\n",
        "random_tensor = torch.rand(3,4)\n",
        "random_tensor"
      ],
      "metadata": {
        "colab": {
          "base_uri": "https://localhost:8080/"
        },
        "id": "Sb7CKt33dm0d",
        "outputId": "26dc95a5-5ad4-4e54-add7-84bcc710a5fa"
      },
      "execution_count": 15,
      "outputs": [
        {
          "output_type": "execute_result",
          "data": {
            "text/plain": [
              "tensor([[0.2827, 0.7133, 0.7868, 0.2077],\n",
              "        [0.3019, 0.5308, 0.9402, 0.9068],\n",
              "        [0.1330, 0.3965, 0.3025, 0.5206]])"
            ]
          },
          "metadata": {},
          "execution_count": 15
        }
      ]
    },
    {
      "cell_type": "code",
      "source": [
        "random_tensor.ndim"
      ],
      "metadata": {
        "colab": {
          "base_uri": "https://localhost:8080/"
        },
        "id": "TlBBdKpBfSdw",
        "outputId": "0be21f17-3c5f-45d4-f4b1-b25e6a71d7af"
      },
      "execution_count": 16,
      "outputs": [
        {
          "output_type": "execute_result",
          "data": {
            "text/plain": [
              "2"
            ]
          },
          "metadata": {},
          "execution_count": 16
        }
      ]
    },
    {
      "cell_type": "code",
      "source": [
        "# create a random tensor with similar shape to an image tensor\n",
        "random_image_size_tensor = torch.rand(size = (224,224,3)) # height, width , color channels (R,G,B)\n",
        "# we can also have color channels, height , width as size values\n",
        "random_image_size_tensor.shape , random_image_size_tensor.ndim"
      ],
      "metadata": {
        "colab": {
          "base_uri": "https://localhost:8080/"
        },
        "id": "7IcYzlmIfun5",
        "outputId": "42d5c123-1e7b-4620-aff6-290ff6ac7038"
      },
      "execution_count": 17,
      "outputs": [
        {
          "output_type": "execute_result",
          "data": {
            "text/plain": [
              "(torch.Size([224, 224, 3]), 3)"
            ]
          },
          "metadata": {},
          "execution_count": 17
        }
      ]
    },
    {
      "cell_type": "code",
      "source": [
        "torch.rand((3,244,244)) # use this syntax : color,height,width **********************************************************************************"
      ],
      "metadata": {
        "colab": {
          "base_uri": "https://localhost:8080/"
        },
        "id": "3GyDhYuyf_wB",
        "outputId": "d9d71693-3900-4868-dd39-1750fab506c5"
      },
      "execution_count": 18,
      "outputs": [
        {
          "output_type": "execute_result",
          "data": {
            "text/plain": [
              "tensor([[[0.6154, 0.7796, 0.9463,  ..., 0.0829, 0.0093, 0.6292],\n",
              "         [0.1597, 0.9956, 0.5932,  ..., 0.0683, 0.5719, 0.4896],\n",
              "         [0.1077, 0.5776, 0.5817,  ..., 0.0064, 0.4525, 0.5315],\n",
              "         ...,\n",
              "         [0.0426, 0.5295, 0.7270,  ..., 0.1428, 0.0172, 0.3726],\n",
              "         [0.9048, 0.8624, 0.0415,  ..., 0.8647, 0.1060, 0.2111],\n",
              "         [0.0426, 0.8774, 0.8886,  ..., 0.7658, 0.2806, 0.6786]],\n",
              "\n",
              "        [[0.0670, 0.1158, 0.2727,  ..., 0.2687, 0.0108, 0.3460],\n",
              "         [0.0526, 0.7358, 0.9289,  ..., 0.8876, 0.0396, 0.0868],\n",
              "         [0.4012, 0.5249, 0.1298,  ..., 0.3082, 0.2483, 0.3812],\n",
              "         ...,\n",
              "         [0.5880, 0.7056, 0.9215,  ..., 0.0701, 0.4319, 0.3959],\n",
              "         [0.4484, 0.9293, 0.1131,  ..., 0.1117, 0.5695, 0.1921],\n",
              "         [0.3939, 0.3004, 0.7896,  ..., 0.7264, 0.3167, 0.3923]],\n",
              "\n",
              "        [[0.0898, 0.4303, 0.6812,  ..., 0.7234, 0.4718, 0.6980],\n",
              "         [0.4376, 0.0898, 0.3421,  ..., 0.3319, 0.5076, 0.6694],\n",
              "         [0.9280, 0.1171, 0.8662,  ..., 0.8513, 0.0360, 0.8169],\n",
              "         ...,\n",
              "         [0.5077, 0.1915, 0.9339,  ..., 0.6710, 0.1409, 0.2605],\n",
              "         [0.3547, 0.2714, 0.8774,  ..., 0.1062, 0.3186, 0.0208],\n",
              "         [0.4905, 0.5400, 0.2764,  ..., 0.5101, 0.9937, 0.4127]]])"
            ]
          },
          "metadata": {},
          "execution_count": 18
        }
      ]
    },
    {
      "cell_type": "markdown",
      "source": [
        "### Zeros and Ones"
      ],
      "metadata": {
        "id": "YatOUm1ChHNR"
      }
    },
    {
      "cell_type": "code",
      "source": [
        "# create a tensor of all zeros\n",
        "zeros = torch.zeros(size=(3,4))\n",
        "zeros"
      ],
      "metadata": {
        "colab": {
          "base_uri": "https://localhost:8080/"
        },
        "id": "IQp-jtKBgmOQ",
        "outputId": "0874f710-fb67-40a3-a254-85f39760d91b"
      },
      "execution_count": 19,
      "outputs": [
        {
          "output_type": "execute_result",
          "data": {
            "text/plain": [
              "tensor([[0., 0., 0., 0.],\n",
              "        [0., 0., 0., 0.],\n",
              "        [0., 0., 0., 0.]])"
            ]
          },
          "metadata": {},
          "execution_count": 19
        }
      ]
    },
    {
      "cell_type": "code",
      "source": [
        "# create a tensor of all ones\n",
        "ones = torch.ones(3,4)\n",
        "ones"
      ],
      "metadata": {
        "colab": {
          "base_uri": "https://localhost:8080/"
        },
        "id": "Ac_v1FsfhOJP",
        "outputId": "d1b7a0f5-77d3-4a4f-f939-23dff4177364"
      },
      "execution_count": 20,
      "outputs": [
        {
          "output_type": "execute_result",
          "data": {
            "text/plain": [
              "tensor([[1., 1., 1., 1.],\n",
              "        [1., 1., 1., 1.],\n",
              "        [1., 1., 1., 1.]])"
            ]
          },
          "metadata": {},
          "execution_count": 20
        }
      ]
    },
    {
      "cell_type": "code",
      "source": [
        "# data type of variable\n",
        "ones.dtype"
      ],
      "metadata": {
        "colab": {
          "base_uri": "https://localhost:8080/"
        },
        "id": "lkCstFCMhbCp",
        "outputId": "f76ef7d4-9a5b-4185-e564-8200760f3b6a"
      },
      "execution_count": 21,
      "outputs": [
        {
          "output_type": "execute_result",
          "data": {
            "text/plain": [
              "torch.float32"
            ]
          },
          "metadata": {},
          "execution_count": 21
        }
      ]
    },
    {
      "cell_type": "markdown",
      "source": [
        "### Creating a range of tensors and tensor-like"
      ],
      "metadata": {
        "id": "NCwCLsACvvle"
      }
    },
    {
      "cell_type": "code",
      "source": [
        "# torch.range() is depricated so instead use arange()\n",
        "values = torch.arange(start = 0, end = 1000 , step = 22)\n",
        "values"
      ],
      "metadata": {
        "id": "-HpJQ5ZgmXaO",
        "colab": {
          "base_uri": "https://localhost:8080/"
        },
        "outputId": "cd05cd4d-65a0-4b27-c524-6244598bf00f"
      },
      "execution_count": 22,
      "outputs": [
        {
          "output_type": "execute_result",
          "data": {
            "text/plain": [
              "tensor([  0,  22,  44,  66,  88, 110, 132, 154, 176, 198, 220, 242, 264, 286,\n",
              "        308, 330, 352, 374, 396, 418, 440, 462, 484, 506, 528, 550, 572, 594,\n",
              "        616, 638, 660, 682, 704, 726, 748, 770, 792, 814, 836, 858, 880, 902,\n",
              "        924, 946, 968, 990])"
            ]
          },
          "metadata": {},
          "execution_count": 22
        }
      ]
    },
    {
      "cell_type": "code",
      "source": [
        "# tensors-like : say you had a particular shape of a tensor you want to replcate sonewhere else, but you\n",
        "# didn't want to explicitly define what that share should be.\n",
        "values.shape"
      ],
      "metadata": {
        "colab": {
          "base_uri": "https://localhost:8080/"
        },
        "id": "AiVVEhbiv2is",
        "outputId": "60c4fda8-c716-45be-a175-5b12d4a30442"
      },
      "execution_count": 23,
      "outputs": [
        {
          "output_type": "execute_result",
          "data": {
            "text/plain": [
              "torch.Size([46])"
            ]
          },
          "metadata": {},
          "execution_count": 23
        }
      ]
    },
    {
      "cell_type": "code",
      "source": [
        "# creating tensor-like i.e. returns an array with zero values with the same shape as array\n",
        "values_like_zeros = torch.zeros_like(values)\n",
        "values_like_zeros"
      ],
      "metadata": {
        "colab": {
          "base_uri": "https://localhost:8080/"
        },
        "id": "WCRoqZQ6wsYm",
        "outputId": "da8657fc-1a96-49db-f3c3-ce9b610f6f27"
      },
      "execution_count": 24,
      "outputs": [
        {
          "output_type": "execute_result",
          "data": {
            "text/plain": [
              "tensor([0, 0, 0, 0, 0, 0, 0, 0, 0, 0, 0, 0, 0, 0, 0, 0, 0, 0, 0, 0, 0, 0, 0, 0,\n",
              "        0, 0, 0, 0, 0, 0, 0, 0, 0, 0, 0, 0, 0, 0, 0, 0, 0, 0, 0, 0, 0, 0])"
            ]
          },
          "metadata": {},
          "execution_count": 24
        }
      ]
    },
    {
      "cell_type": "code",
      "source": [
        "values_like_ones = torch.ones_like(values)\n",
        "values_like_ones"
      ],
      "metadata": {
        "colab": {
          "base_uri": "https://localhost:8080/"
        },
        "id": "18xNh5QQw1vO",
        "outputId": "c24beb3d-ee39-4f8b-969d-0be2f5ff308b"
      },
      "execution_count": 25,
      "outputs": [
        {
          "output_type": "execute_result",
          "data": {
            "text/plain": [
              "tensor([1, 1, 1, 1, 1, 1, 1, 1, 1, 1, 1, 1, 1, 1, 1, 1, 1, 1, 1, 1, 1, 1, 1, 1,\n",
              "        1, 1, 1, 1, 1, 1, 1, 1, 1, 1, 1, 1, 1, 1, 1, 1, 1, 1, 1, 1, 1, 1])"
            ]
          },
          "metadata": {},
          "execution_count": 25
        }
      ]
    },
    {
      "cell_type": "markdown",
      "source": [
        "### Tensors data type\n",
        "\n",
        "\n",
        "**Note**:\n",
        " tensor datatypes is one of the 3 big erros you'll run into with pytorch and deep learning\n",
        " 1. tensor not right datatype\n",
        " 2. tensor not right shape\n",
        " 3. tensor not on the right device"
      ],
      "metadata": {
        "id": "f1h6AgubxYLy"
      }
    },
    {
      "cell_type": "code",
      "source": [
        "# float 32 tensor\n",
        "float_32_tensor = torch.tensor([3.0,6.0,9.0],dtype=None)\n",
        "float_32_tensor"
      ],
      "metadata": {
        "colab": {
          "base_uri": "https://localhost:8080/"
        },
        "id": "Cz5dBKTaxS_s",
        "outputId": "be2735f7-bd96-40ac-a7f0-7e66900a940f"
      },
      "execution_count": 26,
      "outputs": [
        {
          "output_type": "execute_result",
          "data": {
            "text/plain": [
              "tensor([3., 6., 9.])"
            ]
          },
          "metadata": {},
          "execution_count": 26
        }
      ]
    },
    {
      "cell_type": "code",
      "source": [
        "float_32_tensor.dtype # default value in pytorch is float32 so even if we said dtype - None, it would come as dytpe = float32"
      ],
      "metadata": {
        "colab": {
          "base_uri": "https://localhost:8080/"
        },
        "id": "IH6sAdogxEF9",
        "outputId": "b90d0edf-73ec-48fc-9659-60c8012725a2"
      },
      "execution_count": 27,
      "outputs": [
        {
          "output_type": "execute_result",
          "data": {
            "text/plain": [
              "torch.float32"
            ]
          },
          "metadata": {},
          "execution_count": 27
        }
      ]
    },
    {
      "cell_type": "code",
      "source": [
        "float_16_tensor = torch.tensor([3.0,6.0,9.0],dtype=torch.float16)\n",
        "float_16_tensor"
      ],
      "metadata": {
        "colab": {
          "base_uri": "https://localhost:8080/"
        },
        "id": "eOKWjc3bxl96",
        "outputId": "59a3a647-ae20-4a00-f467-127a735ad4a1"
      },
      "execution_count": 28,
      "outputs": [
        {
          "output_type": "execute_result",
          "data": {
            "text/plain": [
              "tensor([3., 6., 9.], dtype=torch.float16)"
            ]
          },
          "metadata": {},
          "execution_count": 28
        }
      ]
    },
    {
      "cell_type": "code",
      "source": [
        "float_16_tensor.dtype"
      ],
      "metadata": {
        "colab": {
          "base_uri": "https://localhost:8080/"
        },
        "id": "y4LnM894x-kH",
        "outputId": "48e6988b-d26b-40ec-e6b7-7ed671b78b94"
      },
      "execution_count": 29,
      "outputs": [
        {
          "output_type": "execute_result",
          "data": {
            "text/plain": [
              "torch.float16"
            ]
          },
          "metadata": {},
          "execution_count": 29
        }
      ]
    },
    {
      "cell_type": "code",
      "source": [
        "float_16_tensor_2 = float_32_tensor.type(torch.float16) # this is the other way to do the same as above\n",
        "float_16_tensor_2"
      ],
      "metadata": {
        "colab": {
          "base_uri": "https://localhost:8080/"
        },
        "id": "BYbtQhHX0fnk",
        "outputId": "95050f6e-eb19-46e2-86f3-15e831521c22"
      },
      "execution_count": 30,
      "outputs": [
        {
          "output_type": "execute_result",
          "data": {
            "text/plain": [
              "tensor([3., 6., 9.], dtype=torch.float16)"
            ]
          },
          "metadata": {},
          "execution_count": 30
        }
      ]
    },
    {
      "cell_type": "code",
      "source": [
        "#imp params -- these are the most important params when creating a tensor\n",
        "\n",
        "tensor = torch.tensor([3.0,6.0,9.0],\n",
        "                      dtype=None, # what datatype is tensor (eg float32, float16, etc)\n",
        "                      device=None, # what device is your tensor on\n",
        "                      requires_grad=False) # weather or not to track gradients with this tensor operations\n",
        ""
      ],
      "metadata": {
        "id": "G6RmHDKhyB6M"
      },
      "execution_count": 31,
      "outputs": []
    },
    {
      "cell_type": "code",
      "source": [
        "# mul of different dtypes --> this works\n",
        "float_16_tensor * float_32_tensor"
      ],
      "metadata": {
        "colab": {
          "base_uri": "https://localhost:8080/"
        },
        "id": "AoVQJ0Bo0sG7",
        "outputId": "d27e9508-284c-405c-b1b4-96e589a83a8e"
      },
      "execution_count": 32,
      "outputs": [
        {
          "output_type": "execute_result",
          "data": {
            "text/plain": [
              "tensor([ 9., 36., 81.])"
            ]
          },
          "metadata": {},
          "execution_count": 32
        }
      ]
    },
    {
      "cell_type": "code",
      "source": [
        "# mul of int and float --> this works\n",
        "\n",
        "int_32_tensor = torch.tensor([3,6,9],dtype=torch.int32)\n",
        "int_32_tensor * float_32_tensor"
      ],
      "metadata": {
        "colab": {
          "base_uri": "https://localhost:8080/"
        },
        "id": "ynY8AVgU1Fp3",
        "outputId": "0113f7c7-ae99-422c-b745-68d1721e66e2"
      },
      "execution_count": 33,
      "outputs": [
        {
          "output_type": "execute_result",
          "data": {
            "text/plain": [
              "tensor([ 9., 36., 81.])"
            ]
          },
          "metadata": {},
          "execution_count": 33
        }
      ]
    },
    {
      "cell_type": "code",
      "source": [
        "# doing the above with long tensor --> this works\n",
        "long_tensor = torch.tensor([3,6,9],dtype=torch.long)\n",
        "long_tensor * float_32_tensor"
      ],
      "metadata": {
        "colab": {
          "base_uri": "https://localhost:8080/"
        },
        "id": "jqRX9yNf1Q4a",
        "outputId": "baf5d742-9b96-4454-c417-fdb98b67b240"
      },
      "execution_count": 34,
      "outputs": [
        {
          "output_type": "execute_result",
          "data": {
            "text/plain": [
              "tensor([ 9., 36., 81.])"
            ]
          },
          "metadata": {},
          "execution_count": 34
        }
      ]
    },
    {
      "cell_type": "markdown",
      "source": [
        "### Getting informations from the tensors (attributes)\n",
        "\n",
        " 1. tensor not right datatype - to get dtype from a tensor,can use `tensor.dtype`\n",
        " 2. tensor not right shape - to get shape from a tensor, can use `tensor.shape`\n",
        " 3. tensor not on the right device - to get device from a tensor, can use `tensor.device`"
      ],
      "metadata": {
        "id": "PNZuVd-4137B"
      }
    },
    {
      "cell_type": "code",
      "source": [
        "# create a tensor\n",
        "some_tensor = torch.rand(3,4)\n",
        "some_tensor"
      ],
      "metadata": {
        "colab": {
          "base_uri": "https://localhost:8080/"
        },
        "id": "E7XVKV3d1gd4",
        "outputId": "e199291e-50c2-408a-91b0-c18a0e730e4c"
      },
      "execution_count": 35,
      "outputs": [
        {
          "output_type": "execute_result",
          "data": {
            "text/plain": [
              "tensor([[0.7342, 0.6086, 0.2848, 0.3543],\n",
              "        [0.4123, 0.4035, 0.9302, 0.7620],\n",
              "        [0.2332, 0.3601, 0.9563, 0.8845]])"
            ]
          },
          "metadata": {},
          "execution_count": 35
        }
      ]
    },
    {
      "cell_type": "code",
      "source": [
        "# getting details about the tensor\n",
        "print(some_tensor)\n",
        "print(f'datatype of tensor : {some_tensor.dtype}')\n",
        "print(f'shape of tensor : {some_tensor.shape}')\n",
        "print(f'device of tensor : {some_tensor.device}')"
      ],
      "metadata": {
        "colab": {
          "base_uri": "https://localhost:8080/"
        },
        "id": "W_eleYVI2aVX",
        "outputId": "b5bda951-163b-46a4-f4d3-318b1989634f"
      },
      "execution_count": 36,
      "outputs": [
        {
          "output_type": "stream",
          "name": "stdout",
          "text": [
            "tensor([[0.7342, 0.6086, 0.2848, 0.3543],\n",
            "        [0.4123, 0.4035, 0.9302, 0.7620],\n",
            "        [0.2332, 0.3601, 0.9563, 0.8845]])\n",
            "datatype of tensor : torch.float32\n",
            "shape of tensor : torch.Size([3, 4])\n",
            "device of tensor : cpu\n"
          ]
        }
      ]
    },
    {
      "cell_type": "markdown",
      "source": [
        "### Manipulating Tensors ( tensors operations )\n",
        "\n",
        "\n",
        "Tensor operations includes:\n",
        "* Additions\n",
        "* Substraction\n",
        "* Multiplication (element-wise)\n",
        "* Division\n",
        "* Matrix Multiplication"
      ],
      "metadata": {
        "id": "Lkzj4GR_q1s2"
      }
    },
    {
      "cell_type": "code",
      "source": [
        "# Additions\n",
        "tensor=torch.tensor([1,2,3])\n",
        "tensor + 10"
      ],
      "metadata": {
        "colab": {
          "base_uri": "https://localhost:8080/"
        },
        "id": "-IHMwGkVqrlz",
        "outputId": "e1967766-7516-49af-de00-038c865a91a4"
      },
      "execution_count": 37,
      "outputs": [
        {
          "output_type": "execute_result",
          "data": {
            "text/plain": [
              "tensor([11, 12, 13])"
            ]
          },
          "metadata": {},
          "execution_count": 37
        }
      ]
    },
    {
      "cell_type": "code",
      "source": [
        "# Multiply tensor by 10\n",
        "tensor*10"
      ],
      "metadata": {
        "colab": {
          "base_uri": "https://localhost:8080/"
        },
        "id": "g6saVSLprdgV",
        "outputId": "6cb911ed-3d30-41f4-add4-8fb574cf8060"
      },
      "execution_count": 38,
      "outputs": [
        {
          "output_type": "execute_result",
          "data": {
            "text/plain": [
              "tensor([10, 20, 30])"
            ]
          },
          "metadata": {},
          "execution_count": 38
        }
      ]
    },
    {
      "cell_type": "code",
      "source": [
        "# Substraction\n",
        "tensor-10"
      ],
      "metadata": {
        "colab": {
          "base_uri": "https://localhost:8080/"
        },
        "id": "VOQxw641rmVw",
        "outputId": "98261814-65e4-4e0f-b443-970c3dbab6a5"
      },
      "execution_count": 39,
      "outputs": [
        {
          "output_type": "execute_result",
          "data": {
            "text/plain": [
              "tensor([-9, -8, -7])"
            ]
          },
          "metadata": {},
          "execution_count": 39
        }
      ]
    },
    {
      "cell_type": "code",
      "source": [
        "# Try out pytorch in built functions\n",
        "# builtin multiplication\n",
        "torch.mul(tensor , 10) # ---> multiply each tensor by 10"
      ],
      "metadata": {
        "colab": {
          "base_uri": "https://localhost:8080/"
        },
        "id": "rFcdwYQfrxWC",
        "outputId": "135ea322-7424-434f-f053-be60b8579d67"
      },
      "execution_count": 40,
      "outputs": [
        {
          "output_type": "execute_result",
          "data": {
            "text/plain": [
              "tensor([10, 20, 30])"
            ]
          },
          "metadata": {},
          "execution_count": 40
        }
      ]
    },
    {
      "cell_type": "code",
      "source": [
        "# builtin addition\n",
        "torch.add(tensor,10)"
      ],
      "metadata": {
        "colab": {
          "base_uri": "https://localhost:8080/"
        },
        "id": "VZfAzJHwr-L7",
        "outputId": "a6cc6df3-54dc-4633-b574-bf7ef494a5a2"
      },
      "execution_count": 41,
      "outputs": [
        {
          "output_type": "execute_result",
          "data": {
            "text/plain": [
              "tensor([11, 12, 13])"
            ]
          },
          "metadata": {},
          "execution_count": 41
        }
      ]
    },
    {
      "cell_type": "code",
      "source": [
        "# builtin substraction\n",
        "torch.sub(tensor, 10)"
      ],
      "metadata": {
        "colab": {
          "base_uri": "https://localhost:8080/"
        },
        "id": "ClINn-lEpRf6",
        "outputId": "484a0b96-8084-4ff0-f9e3-485f0275e0f6"
      },
      "execution_count": 42,
      "outputs": [
        {
          "output_type": "execute_result",
          "data": {
            "text/plain": [
              "tensor([-9, -8, -7])"
            ]
          },
          "metadata": {},
          "execution_count": 42
        }
      ]
    },
    {
      "cell_type": "code",
      "source": [
        "# builtin matrix multiplication\n",
        "torch.matmul(tensor, torch.tensor([10,10, 10] , dtype = tensor.dtype))"
      ],
      "metadata": {
        "id": "kObD5RSQsC3u",
        "colab": {
          "base_uri": "https://localhost:8080/"
        },
        "outputId": "bd6a63b7-e964-4612-84cb-4a6d6f120933"
      },
      "execution_count": 43,
      "outputs": [
        {
          "output_type": "execute_result",
          "data": {
            "text/plain": [
              "tensor(60)"
            ]
          },
          "metadata": {},
          "execution_count": 43
        }
      ]
    },
    {
      "cell_type": "code",
      "source": [
        "??torch # --> for checking doc"
      ],
      "metadata": {
        "colab": {
          "base_uri": "https://localhost:8080/"
        },
        "id": "3DoDyldpoqlJ",
        "outputId": "7879c72a-59e9-4aa0-92d7-a34e2d413d00"
      },
      "execution_count": 44,
      "outputs": [
        {
          "output_type": "stream",
          "name": "stdout",
          "text": [
            "Object `torch # --> for checking doc` not found.\n"
          ]
        }
      ]
    },
    {
      "cell_type": "markdown",
      "source": [
        "### Matrix multiplication\n",
        "\n",
        "Two main ways of performinng multiplication in neural network and deep learning.\n",
        "\n",
        "1. Element-wise multiplication\n",
        "2. Matrix multiplication (dor product)\n",
        "\n",
        "\n",
        "There are two main rules that performing matrix multiplication needs to satisfy :\n",
        "1. The **inner dimension** must match :\n",
        "* `(3,2) @ (3,2)` - won't work\n",
        "* `(2,3) @ (3,2)` or `(3,2) @ (2,3)` - will work\n",
        "\n",
        "![image.png](data:image/png;base64,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)\n",
        "\n",
        "\n",
        "> @ : used for matrix multiplication\n",
        "\n",
        "2. The resulting matrix has the shape of the **outer dimension** :\n",
        "* `(2,3) @ (3,2) --> shape : (2,2)`"
      ],
      "metadata": {
        "id": "rUmZFAeQp9mr"
      }
    },
    {
      "cell_type": "code",
      "source": [
        "# element wise multiplicaiton\n",
        "print(tensor , '*' , tensor)\n",
        "print(f'equal : {tensor*tensor}')"
      ],
      "metadata": {
        "colab": {
          "base_uri": "https://localhost:8080/"
        },
        "id": "NXyMrGkTp77_",
        "outputId": "5a0be907-ac20-47e6-9b6b-5a2d8b9bb53c"
      },
      "execution_count": 45,
      "outputs": [
        {
          "output_type": "stream",
          "name": "stdout",
          "text": [
            "tensor([1, 2, 3]) * tensor([1, 2, 3])\n",
            "equal : tensor([1, 4, 9])\n"
          ]
        }
      ]
    },
    {
      "cell_type": "code",
      "source": [
        "# matrix multiplication\n",
        "torch.matmul(tensor , tensor)"
      ],
      "metadata": {
        "colab": {
          "base_uri": "https://localhost:8080/"
        },
        "id": "XKFAZP5QqgJM",
        "outputId": "7606df83-a7da-4948-b0cd-a6594533acd1"
      },
      "execution_count": 46,
      "outputs": [
        {
          "output_type": "execute_result",
          "data": {
            "text/plain": [
              "tensor(14)"
            ]
          },
          "metadata": {},
          "execution_count": 46
        }
      ]
    },
    {
      "cell_type": "code",
      "source": [
        "# matmul by hand\n",
        "1 * 1 + 2 * 2 + 3 * 3"
      ],
      "metadata": {
        "colab": {
          "base_uri": "https://localhost:8080/"
        },
        "id": "4MYOF2FNqtsX",
        "outputId": "b9282882-7e86-4da0-fd30-dca88e0c0c3e"
      },
      "execution_count": 47,
      "outputs": [
        {
          "output_type": "execute_result",
          "data": {
            "text/plain": [
              "14"
            ]
          },
          "metadata": {},
          "execution_count": 47
        }
      ]
    },
    {
      "cell_type": "code",
      "source": [
        "%%time\n",
        "val = 0\n",
        "for i in range(len(tensor)):\n",
        "  val += tensor[i] * tensor[i]\n",
        "val"
      ],
      "metadata": {
        "colab": {
          "base_uri": "https://localhost:8080/"
        },
        "id": "uHN0uIharRij",
        "outputId": "146d127f-fdbc-4cec-d8cf-905061efac75"
      },
      "execution_count": 48,
      "outputs": [
        {
          "output_type": "stream",
          "name": "stdout",
          "text": [
            "CPU times: user 273 µs, sys: 47 µs, total: 320 µs\n",
            "Wall time: 329 µs\n"
          ]
        },
        {
          "output_type": "execute_result",
          "data": {
            "text/plain": [
              "tensor(14)"
            ]
          },
          "metadata": {},
          "execution_count": 48
        }
      ]
    },
    {
      "cell_type": "code",
      "source": [
        "%%time\n",
        "torch.matmul(tensor , tensor)"
      ],
      "metadata": {
        "colab": {
          "base_uri": "https://localhost:8080/"
        },
        "id": "UDXPNTu4rpHW",
        "outputId": "f05bf1a5-8815-4a50-fdb0-6bc83823df78"
      },
      "execution_count": 49,
      "outputs": [
        {
          "output_type": "stream",
          "name": "stdout",
          "text": [
            "CPU times: user 68 µs, sys: 11 µs, total: 79 µs\n",
            "Wall time: 84.9 µs\n"
          ]
        },
        {
          "output_type": "execute_result",
          "data": {
            "text/plain": [
              "tensor(14)"
            ]
          },
          "metadata": {},
          "execution_count": 49
        }
      ]
    },
    {
      "cell_type": "markdown",
      "source": [
        "### One of the most common errors in the deep learning that is shape errors"
      ],
      "metadata": {
        "id": "5NbzcyNarut6"
      }
    },
    {
      "cell_type": "code",
      "source": [
        " # shapes for matrix multiplication\n",
        " tensor_A = torch.tensor([[1,2],\n",
        "                          [3,4],\n",
        "                          [5,6]])\n",
        " tensor_B = torch.tensor([[7,10],\n",
        "                          [8,11],\n",
        "                          [9,12]])"
      ],
      "metadata": {
        "id": "3IXzCza2t8L2"
      },
      "execution_count": 50,
      "outputs": []
    },
    {
      "cell_type": "code",
      "source": [
        "torch.mm(tensor_A , tensor_B) # torch.mm is the same as torch.matmul (it's an alias for writing less code)"
      ],
      "metadata": {
        "colab": {
          "base_uri": "https://localhost:8080/",
          "height": 166
        },
        "id": "3ZNbDydCvVBU",
        "outputId": "b51b808a-8db5-4726-b357-08d2688f8eae"
      },
      "execution_count": 51,
      "outputs": [
        {
          "output_type": "error",
          "ename": "RuntimeError",
          "evalue": "ignored",
          "traceback": [
            "\u001b[0;31m---------------------------------------------------------------------------\u001b[0m",
            "\u001b[0;31mRuntimeError\u001b[0m                              Traceback (most recent call last)",
            "\u001b[0;32m<ipython-input-51-56e281656f4e>\u001b[0m in \u001b[0;36m<cell line: 1>\u001b[0;34m()\u001b[0m\n\u001b[0;32m----> 1\u001b[0;31m \u001b[0mtorch\u001b[0m\u001b[0;34m.\u001b[0m\u001b[0mmm\u001b[0m\u001b[0;34m(\u001b[0m\u001b[0mtensor_A\u001b[0m \u001b[0;34m,\u001b[0m \u001b[0mtensor_B\u001b[0m\u001b[0;34m)\u001b[0m \u001b[0;31m# torch.mm is the same as torch.matmul (it's an alias for writing less code)\u001b[0m\u001b[0;34m\u001b[0m\u001b[0;34m\u001b[0m\u001b[0m\n\u001b[0m",
            "\u001b[0;31mRuntimeError\u001b[0m: mat1 and mat2 shapes cannot be multiplied (3x2 and 3x2)"
          ]
        }
      ]
    },
    {
      "cell_type": "code",
      "source": [
        "tensor_A.shape , tensor_B.shape"
      ],
      "metadata": {
        "colab": {
          "base_uri": "https://localhost:8080/"
        },
        "id": "Ze0qDijQvbgj",
        "outputId": "0b372567-9bad-440d-8c01-87e300917959"
      },
      "execution_count": 52,
      "outputs": [
        {
          "output_type": "execute_result",
          "data": {
            "text/plain": [
              "(torch.Size([3, 2]), torch.Size([3, 2]))"
            ]
          },
          "metadata": {},
          "execution_count": 52
        }
      ]
    },
    {
      "cell_type": "markdown",
      "source": [
        "To fix our tensor shape issues , we can manipulate the shape of one of our tensors using a **transpose**\n",
        "\n",
        "A **transpose** switches axes ot dimension of a given tensor."
      ],
      "metadata": {
        "id": "_tCjqDZU6oCH"
      }
    },
    {
      "cell_type": "code",
      "source": [
        "tensor_B.T # -- >transposed tensor_B"
      ],
      "metadata": {
        "colab": {
          "base_uri": "https://localhost:8080/"
        },
        "id": "mbnbrwhi657a",
        "outputId": "51714090-8ecb-46bf-807e-aa8470e370c2"
      },
      "execution_count": 53,
      "outputs": [
        {
          "output_type": "execute_result",
          "data": {
            "text/plain": [
              "tensor([[ 7,  8,  9],\n",
              "        [10, 11, 12]])"
            ]
          },
          "metadata": {},
          "execution_count": 53
        }
      ]
    },
    {
      "cell_type": "code",
      "source": [
        "torch.mm(tensor_A , tensor_B.T)"
      ],
      "metadata": {
        "colab": {
          "base_uri": "https://localhost:8080/"
        },
        "id": "7RjT4kOF678s",
        "outputId": "c6ac3c67-4d8d-4708-afd0-9c526d89a4f4"
      },
      "execution_count": 54,
      "outputs": [
        {
          "output_type": "execute_result",
          "data": {
            "text/plain": [
              "tensor([[ 27,  30,  33],\n",
              "        [ 61,  68,  75],\n",
              "        [ 95, 106, 117]])"
            ]
          },
          "metadata": {},
          "execution_count": 54
        }
      ]
    },
    {
      "cell_type": "markdown",
      "source": [
        "### Finding the min, max , mean , sum etc ( tensor aggregation)"
      ],
      "metadata": {
        "id": "8TCBP_NV7BMp"
      }
    },
    {
      "cell_type": "code",
      "source": [
        "# create a tensor\n",
        "x = torch.arange(0,100, 10)\n",
        "x , x.dtype"
      ],
      "metadata": {
        "colab": {
          "base_uri": "https://localhost:8080/"
        },
        "id": "aGhNRxsreNeh",
        "outputId": "6c4c7bd6-8c74-465c-fa4f-31d6f71dffff"
      },
      "execution_count": 61,
      "outputs": [
        {
          "output_type": "execute_result",
          "data": {
            "text/plain": [
              "(tensor([ 0, 10, 20, 30, 40, 50, 60, 70, 80, 90]), torch.int64)"
            ]
          },
          "metadata": {},
          "execution_count": 61
        }
      ]
    },
    {
      "cell_type": "code",
      "source": [
        "# find the mon\n",
        "\n",
        "torch.min(x) , x.min()"
      ],
      "metadata": {
        "colab": {
          "base_uri": "https://localhost:8080/"
        },
        "id": "dWGQ5gjteUeM",
        "outputId": "e18b3d1b-03d5-48bc-b2cf-056180db72e1"
      },
      "execution_count": 56,
      "outputs": [
        {
          "output_type": "execute_result",
          "data": {
            "text/plain": [
              "(tensor(0), tensor(0))"
            ]
          },
          "metadata": {},
          "execution_count": 56
        }
      ]
    },
    {
      "cell_type": "code",
      "source": [
        "# find the max\n",
        "torch.max(x) , x.max()"
      ],
      "metadata": {
        "colab": {
          "base_uri": "https://localhost:8080/"
        },
        "id": "bc4q0wvgeYiV",
        "outputId": "89fc4214-247a-4b5c-d6b1-f4492cf5a04f"
      },
      "execution_count": 57,
      "outputs": [
        {
          "output_type": "execute_result",
          "data": {
            "text/plain": [
              "(tensor(90), tensor(90))"
            ]
          },
          "metadata": {},
          "execution_count": 57
        }
      ]
    },
    {
      "cell_type": "code",
      "source": [
        "# find the mean\n",
        "torch.mean(x) , x.mean()"
      ],
      "metadata": {
        "colab": {
          "base_uri": "https://localhost:8080/",
          "height": 183
        },
        "id": "nkvLdJg7ebaG",
        "outputId": "8f287ac0-c112-4a12-c2dc-6977add4eec5"
      },
      "execution_count": 59,
      "outputs": [
        {
          "output_type": "error",
          "ename": "RuntimeError",
          "evalue": "ignored",
          "traceback": [
            "\u001b[0;31m---------------------------------------------------------------------------\u001b[0m",
            "\u001b[0;31mRuntimeError\u001b[0m                              Traceback (most recent call last)",
            "\u001b[0;32m<ipython-input-59-4d615496c345>\u001b[0m in \u001b[0;36m<cell line: 2>\u001b[0;34m()\u001b[0m\n\u001b[1;32m      1\u001b[0m \u001b[0;31m# find the mean\u001b[0m\u001b[0;34m\u001b[0m\u001b[0;34m\u001b[0m\u001b[0m\n\u001b[0;32m----> 2\u001b[0;31m \u001b[0mtorch\u001b[0m\u001b[0;34m.\u001b[0m\u001b[0mmean\u001b[0m\u001b[0;34m(\u001b[0m\u001b[0mx\u001b[0m\u001b[0;34m)\u001b[0m \u001b[0;34m,\u001b[0m \u001b[0mx\u001b[0m\u001b[0;34m.\u001b[0m\u001b[0mmean\u001b[0m\u001b[0;34m(\u001b[0m\u001b[0;34m)\u001b[0m\u001b[0;34m\u001b[0m\u001b[0;34m\u001b[0m\u001b[0m\n\u001b[0m",
            "\u001b[0;31mRuntimeError\u001b[0m: mean(): could not infer output dtype. Input dtype must be either a floating point or complex dtype. Got: Long"
          ]
        }
      ]
    },
    {
      "cell_type": "markdown",
      "source": [
        "> see the following : https://pytorch.org/docs/stable/tensors.html#:~:text=64%2Dbit%20integer%20(signed)"
      ],
      "metadata": {
        "id": "n9ahrmn3e3xK"
      }
    },
    {
      "cell_type": "code",
      "source": [
        "# find the mean - note torch.mena() function requires a tensor of float32 datatype to work\n",
        "torch.mean(x.type(torch.float32)) , x.type(torch.float32).mean()"
      ],
      "metadata": {
        "colab": {
          "base_uri": "https://localhost:8080/"
        },
        "id": "ToXVj8g1efjf",
        "outputId": "f45d711b-4b7b-43dc-a1ad-ee9127cdb226"
      },
      "execution_count": 70,
      "outputs": [
        {
          "output_type": "execute_result",
          "data": {
            "text/plain": [
              "(tensor(45.), tensor(45.))"
            ]
          },
          "metadata": {},
          "execution_count": 70
        }
      ]
    },
    {
      "cell_type": "code",
      "source": [
        "# find the sum\n",
        "torch.sum(x) , x.sum()"
      ],
      "metadata": {
        "colab": {
          "base_uri": "https://localhost:8080/"
        },
        "id": "tfEj_-d9feOE",
        "outputId": "dc54e4c9-3f1b-47ae-fcd9-a9a02db4c47e"
      },
      "execution_count": 71,
      "outputs": [
        {
          "output_type": "execute_result",
          "data": {
            "text/plain": [
              "(tensor(450), tensor(450))"
            ]
          },
          "metadata": {},
          "execution_count": 71
        }
      ]
    },
    {
      "cell_type": "markdown",
      "source": [
        "### Finding positional min and max"
      ],
      "metadata": {
        "id": "a6N1ERjrf00m"
      }
    },
    {
      "cell_type": "code",
      "source": [
        "# find the position in tensor that has minimum value  --> return the position of target tensor where minimum value occurs\n",
        "x.argmin() , torch.argmin(x)"
      ],
      "metadata": {
        "colab": {
          "base_uri": "https://localhost:8080/"
        },
        "id": "BGt_ZoqNgUug",
        "outputId": "a18325a0-dd9e-4710-dbef-48b4c0669aa8"
      },
      "execution_count": 73,
      "outputs": [
        {
          "output_type": "execute_result",
          "data": {
            "text/plain": [
              "(tensor(0), tensor(0))"
            ]
          },
          "metadata": {},
          "execution_count": 73
        }
      ]
    },
    {
      "cell_type": "code",
      "source": [
        "# find the position in tensor that has the max value\n",
        "x.argmax() , torch.argmax(x)"
      ],
      "metadata": {
        "colab": {
          "base_uri": "https://localhost:8080/"
        },
        "id": "BiyVu1hSgW7o",
        "outputId": "b6a734ef-a9e2-48b3-fbea-47c720d7765d"
      },
      "execution_count": 74,
      "outputs": [
        {
          "output_type": "execute_result",
          "data": {
            "text/plain": [
              "(tensor(9), tensor(9))"
            ]
          },
          "metadata": {},
          "execution_count": 74
        }
      ]
    },
    {
      "cell_type": "code",
      "source": [],
      "metadata": {
        "id": "2kAy8_bFgvXm"
      },
      "execution_count": null,
      "outputs": []
    }
  ]
}